{
 "cells": [
  {
   "cell_type": "code",
   "execution_count": 2,
   "id": "5442e014",
   "metadata": {},
   "outputs": [
    {
     "name": "stdout",
     "output_type": "stream",
     "text": [
      "nimkhdad\n",
      "AODAY\n"
     ]
    }
   ],
   "source": [
    "s=\"nimAkhODAdadY\"\n",
    "d=\"\"\n",
    "w=\"\"\n",
    "for i in s:\n",
    "    if (i.islower()):\n",
    "        d=d+i\n",
    "    else:\n",
    "        w=w+i\n",
    "print(d)\n",
    "print(w)"
   ]
  },
  {
   "cell_type": "code",
   "execution_count": null,
   "id": "a51f6d44",
   "metadata": {},
   "outputs": [],
   "source": []
  }
 ],
 "metadata": {
  "kernelspec": {
   "display_name": "Python 3 (ipykernel)",
   "language": "python",
   "name": "python3"
  },
  "language_info": {
   "codemirror_mode": {
    "name": "ipython",
    "version": 3
   },
   "file_extension": ".py",
   "mimetype": "text/x-python",
   "name": "python",
   "nbconvert_exporter": "python",
   "pygments_lexer": "ipython3",
   "version": "3.11.5"
  }
 },
 "nbformat": 4,
 "nbformat_minor": 5
}
