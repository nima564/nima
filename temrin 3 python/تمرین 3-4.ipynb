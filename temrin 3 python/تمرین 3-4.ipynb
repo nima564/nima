{
 "cells": [
  {
   "cell_type": "code",
   "execution_count": 3,
   "id": "b7321143",
   "metadata": {},
   "outputs": [
    {
     "name": "stdout",
     "output_type": "stream",
     "text": [
      "8.0\n"
     ]
    }
   ],
   "source": [
    "#وارد میکنیم asابندا ما میام کتابخانه مربوط را در برنامه وارد و فراخوانی میکنیم و ما الان یک کتابخانه ای داریم برای انجام عملیات ریاضی و بعد این کتابخانه را برای ساده تر کردن کار خودمان یک نام به صورت دلخواه با دستور \n",
    "import math as n\n",
    "#جزر یک عدد را میگیریمsqrtراخوانی تابع و سپس نوشتن دستور\n",
    "x=n.sqrt(64)\n",
    "print(x)"
   ]
  },
  {
   "cell_type": "code",
   "execution_count": null,
   "id": "9a69b506",
   "metadata": {},
   "outputs": [],
   "source": []
  }
 ],
 "metadata": {
  "kernelspec": {
   "display_name": "Python 3 (ipykernel)",
   "language": "python",
   "name": "python3"
  },
  "language_info": {
   "codemirror_mode": {
    "name": "ipython",
    "version": 3
   },
   "file_extension": ".py",
   "mimetype": "text/x-python",
   "name": "python",
   "nbconvert_exporter": "python",
   "pygments_lexer": "ipython3",
   "version": "3.11.5"
  }
 },
 "nbformat": 4,
 "nbformat_minor": 5
}
