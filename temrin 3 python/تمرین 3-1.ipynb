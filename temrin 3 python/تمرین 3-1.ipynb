{
 "cells": [
  {
   "cell_type": "code",
   "execution_count": 1,
   "id": "6573a2f6",
   "metadata": {},
   "outputs": [
    {
     "name": "stdout",
     "output_type": "stream",
     "text": [
      "nima\n",
      "khodadady\n",
      "19\n"
     ]
    }
   ],
   "source": [
    "def a(c,d,e):\n",
    "    return print(c+\"\\n\"+d+\"\\n\"+e)\n",
    "a(\"nima\",\"khodadady\",\"19\")"
   ]
  },
  {
   "cell_type": "code",
   "execution_count": null,
   "id": "4244cdc6",
   "metadata": {},
   "outputs": [],
   "source": []
  }
 ],
 "metadata": {
  "kernelspec": {
   "display_name": "Python 3 (ipykernel)",
   "language": "python",
   "name": "python3"
  },
  "language_info": {
   "codemirror_mode": {
    "name": "ipython",
    "version": 3
   },
   "file_extension": ".py",
   "mimetype": "text/x-python",
   "name": "python",
   "nbconvert_exporter": "python",
   "pygments_lexer": "ipython3",
   "version": "3.11.5"
  }
 },
 "nbformat": 4,
 "nbformat_minor": 5
}
