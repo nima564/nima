{
 "cells": [
  {
   "cell_type": "code",
   "execution_count": 4,
   "id": "e2aee867",
   "metadata": {},
   "outputs": [
    {
     "name": "stdout",
     "output_type": "stream",
     "text": [
      "0.5\n"
     ]
    }
   ],
   "source": [
    "def win(t,v,ur):\n",
    "    z=-1/t\n",
    "    c=v-ur\n",
    "    dv_dt=z*c\n",
    "    return print(dv_dt)\n",
    "win(2,25,26)"
   ]
  },
  {
   "cell_type": "code",
   "execution_count": null,
   "id": "a5f4a303",
   "metadata": {},
   "outputs": [],
   "source": []
  }
 ],
 "metadata": {
  "kernelspec": {
   "display_name": "Python 3 (ipykernel)",
   "language": "python",
   "name": "python3"
  },
  "language_info": {
   "codemirror_mode": {
    "name": "ipython",
    "version": 3
   },
   "file_extension": ".py",
   "mimetype": "text/x-python",
   "name": "python",
   "nbconvert_exporter": "python",
   "pygments_lexer": "ipython3",
   "version": "3.11.5"
  }
 },
 "nbformat": 4,
 "nbformat_minor": 5
}
