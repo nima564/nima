{
 "cells": [
  {
   "cell_type": "code",
   "execution_count": 4,
   "id": "0550ad26",
   "metadata": {},
   "outputs": [
    {
     "name": "stdout",
     "output_type": "stream",
     "text": [
      "enter number:5\n",
      "4>iux\n"
     ]
    }
   ],
   "source": [
    "import random\n",
    "\n",
    "ramz = '1234567890!@#$%^&*(qawertyuiop;\"}sdfghjkl;zcxvbnm,./>'\n",
    "nuum = int(input(\"enter number:\"))\n",
    "randompass = \"\".join(random.sample(ramz, nuum))\n",
    "print(randompass)"
   ]
  },
  {
   "cell_type": "code",
   "execution_count": null,
   "id": "2c8fafe8",
   "metadata": {},
   "outputs": [],
   "source": []
  }
 ],
 "metadata": {
  "kernelspec": {
   "display_name": "Python 3 (ipykernel)",
   "language": "python",
   "name": "python3"
  },
  "language_info": {
   "codemirror_mode": {
    "name": "ipython",
    "version": 3
   },
   "file_extension": ".py",
   "mimetype": "text/x-python",
   "name": "python",
   "nbconvert_exporter": "python",
   "pygments_lexer": "ipython3",
   "version": "3.11.5"
  }
 },
 "nbformat": 4,
 "nbformat_minor": 5
}
