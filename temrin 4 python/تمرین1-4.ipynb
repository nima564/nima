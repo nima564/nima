{
 "cells": [
  {
   "cell_type": "code",
   "execution_count": 1,
   "id": "3dd0f59d",
   "metadata": {},
   "outputs": [
    {
     "name": "stdout",
     "output_type": "stream",
     "text": [
      "-20\n",
      "20\n"
     ]
    }
   ],
   "source": [
    "def num(a):\n",
    "    if a < 0:\n",
    "        a = -a\n",
    "    print(a)\n",
    "\n",
    "a = int(input())\n",
    "num(a)"
   ]
  },
  {
   "cell_type": "code",
   "execution_count": null,
   "id": "14510c75",
   "metadata": {},
   "outputs": [],
   "source": []
  }
 ],
 "metadata": {
  "kernelspec": {
   "display_name": "Python 3 (ipykernel)",
   "language": "python",
   "name": "python3"
  },
  "language_info": {
   "codemirror_mode": {
    "name": "ipython",
    "version": 3
   },
   "file_extension": ".py",
   "mimetype": "text/x-python",
   "name": "python",
   "nbconvert_exporter": "python",
   "pygments_lexer": "ipython3",
   "version": "3.11.5"
  }
 },
 "nbformat": 4,
 "nbformat_minor": 5
}
