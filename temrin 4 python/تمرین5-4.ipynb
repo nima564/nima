{
 "cells": [
  {
   "cell_type": "code",
   "execution_count": 4,
   "id": "8681fb09",
   "metadata": {},
   "outputs": [
    {
     "data": {
      "text/plain": [
       "12.409673645990857"
      ]
     },
     "execution_count": 4,
     "metadata": {},
     "output_type": "execute_result"
    }
   ],
   "source": [
    "def fI(k,a,i):\n",
    "    z=k**2\n",
    "    x=a**2\n",
    "    c=z+x*i\n",
    "    import math\n",
    "    s=math.sqrt(c)\n",
    "    \n",
    "fI(2,5,6)"
   ]
  },
  {
   "cell_type": "code",
   "execution_count": null,
   "id": "b8460897",
   "metadata": {},
   "outputs": [],
   "source": []
  }
 ],
 "metadata": {
  "kernelspec": {
   "display_name": "Python 3 (ipykernel)",
   "language": "python",
   "name": "python3"
  },
  "language_info": {
   "codemirror_mode": {
    "name": "ipython",
    "version": 3
   },
   "file_extension": ".py",
   "mimetype": "text/x-python",
   "name": "python",
   "nbconvert_exporter": "python",
   "pygments_lexer": "ipython3",
   "version": "3.11.5"
  }
 },
 "nbformat": 4,
 "nbformat_minor": 5
}
