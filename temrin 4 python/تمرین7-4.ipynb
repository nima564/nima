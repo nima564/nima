{
 "cells": [
  {
   "cell_type": "code",
   "execution_count": 1,
   "id": "ac879db1",
   "metadata": {},
   "outputs": [
    {
     "name": "stdout",
     "output_type": "stream",
     "text": [
      "2.666666666666667\n"
     ]
    }
   ],
   "source": [
    "def ass(x,a):\n",
    "    s=(x+a/x)/2\n",
    "    print(s)\n",
    "ass(3,7)"
   ]
  },
  {
   "cell_type": "code",
   "execution_count": null,
   "id": "0f67a5e6",
   "metadata": {},
   "outputs": [],
   "source": []
  }
 ],
 "metadata": {
  "kernelspec": {
   "display_name": "Python 3 (ipykernel)",
   "language": "python",
   "name": "python3"
  },
  "language_info": {
   "codemirror_mode": {
    "name": "ipython",
    "version": 3
   },
   "file_extension": ".py",
   "mimetype": "text/x-python",
   "name": "python",
   "nbconvert_exporter": "python",
   "pygments_lexer": "ipython3",
   "version": "3.11.5"
  }
 },
 "nbformat": 4,
 "nbformat_minor": 5
}
