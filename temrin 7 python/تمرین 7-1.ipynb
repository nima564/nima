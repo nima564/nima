{
 "cells": [
  {
   "cell_type": "code",
   "execution_count": 15,
   "id": "c5b5c3c5",
   "metadata": {},
   "outputs": [
    {
     "name": "stdout",
     "output_type": "stream",
     "text": [
      "103\n",
      "117\n",
      "121\n",
      "78\n",
      "105\n",
      "109\n",
      "97\n",
      "True\n",
      "True\n",
      "False\n",
      "False\n",
      "False\n",
      "True\n"
     ]
    }
   ],
   "source": [
    "a=\"guy\"\n",
    "b=\"Nima\"\n",
    "print(ord(\"g\"))# دراینجا کد اسکی های حروف بالا را مشاهده میکنید\n",
    "print(ord(\"u\"))\n",
    "print(ord(\"y\"))\n",
    "print(ord(\"N\"))\n",
    "print(ord(\"i\"))\n",
    "print(ord(\"m\"))\n",
    "print(ord(\"a\"))\n",
    "print(a>b)#در عملگر های مقایسه می اید رشته هایی که در دو تا متغییر تعریف کردیم  \n",
    "print(a>=b)#را به کد اسکی تبدیل میکند و کد اسکی را با هم جمع میکند و بعد با هم مقایسه میکند\n",
    "print(a<=b)\n",
    "print(a<b)\n",
    "print(a==b)\n",
    "print(a!=b)"
   ]
  },
  {
   "cell_type": "code",
   "execution_count": null,
   "id": "0a9a3ecb",
   "metadata": {},
   "outputs": [],
   "source": []
  }
 ],
 "metadata": {
  "kernelspec": {
   "display_name": "Python 3 (ipykernel)",
   "language": "python",
   "name": "python3"
  },
  "language_info": {
   "codemirror_mode": {
    "name": "ipython",
    "version": 3
   },
   "file_extension": ".py",
   "mimetype": "text/x-python",
   "name": "python",
   "nbconvert_exporter": "python",
   "pygments_lexer": "ipython3",
   "version": "3.11.5"
  }
 },
 "nbformat": 4,
 "nbformat_minor": 5
}
