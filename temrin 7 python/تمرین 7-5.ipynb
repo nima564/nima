{
 "cells": [
  {
   "cell_type": "code",
   "execution_count": 2,
   "id": "970ba3b9",
   "metadata": {},
   "outputs": [
    {
     "name": "stdout",
     "output_type": "stream",
     "text": [
      "19\n",
      "khodadady\n",
      "nima\n"
     ]
    }
   ],
   "source": [
    "w=[\"nima\",\"khodadady\",\"19\"]\n",
    "d=w[::-1]\n",
    "for s in d:\n",
    "    print(s)"
   ]
  },
  {
   "cell_type": "code",
   "execution_count": null,
   "id": "e50453f1",
   "metadata": {},
   "outputs": [],
   "source": []
  }
 ],
 "metadata": {
  "kernelspec": {
   "display_name": "Python 3 (ipykernel)",
   "language": "python",
   "name": "python3"
  },
  "language_info": {
   "codemirror_mode": {
    "name": "ipython",
    "version": 3
   },
   "file_extension": ".py",
   "mimetype": "text/x-python",
   "name": "python",
   "nbconvert_exporter": "python",
   "pygments_lexer": "ipython3",
   "version": "3.11.5"
  }
 },
 "nbformat": 4,
 "nbformat_minor": 5
}
