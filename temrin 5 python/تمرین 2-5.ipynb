{
 "cells": [
  {
   "cell_type": "code",
   "execution_count": 6,
   "id": "764dbc8e",
   "metadata": {},
   "outputs": [
    {
     "name": "stdout",
     "output_type": "stream",
     "text": [
      "1.0570274409124183\n"
     ]
    }
   ],
   "source": [
    "import math as c\n",
    "def ad(x,y):\n",
    "    d=(c.sin(x)/c.cos(x))\n",
    "    s=(d*c.sin(y))\n",
    "    print(s)\n",
    "ad(4,20)"
   ]
  },
  {
   "cell_type": "code",
   "execution_count": null,
   "id": "676f5750",
   "metadata": {},
   "outputs": [],
   "source": []
  }
 ],
 "metadata": {
  "kernelspec": {
   "display_name": "Python 3 (ipykernel)",
   "language": "python",
   "name": "python3"
  },
  "language_info": {
   "codemirror_mode": {
    "name": "ipython",
    "version": 3
   },
   "file_extension": ".py",
   "mimetype": "text/x-python",
   "name": "python",
   "nbconvert_exporter": "python",
   "pygments_lexer": "ipython3",
   "version": "3.11.5"
  }
 },
 "nbformat": 4,
 "nbformat_minor": 5
}
