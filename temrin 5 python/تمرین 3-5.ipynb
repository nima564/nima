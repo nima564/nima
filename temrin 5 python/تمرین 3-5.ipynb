{
 "cells": [
  {
   "cell_type": "code",
   "execution_count": 3,
   "id": "35205085",
   "metadata": {},
   "outputs": [
    {
     "name": "stdout",
     "output_type": "stream",
     "text": [
      "3.0472470011002204\n"
     ]
    }
   ],
   "source": [
    "import math as df\n",
    "def sdw(x,y,t):\n",
    "    w=df.sqrt(x-y/t)\n",
    "    print(w)\n",
    "sdw(10,5,7)"
   ]
  },
  {
   "cell_type": "code",
   "execution_count": null,
   "id": "911b9430",
   "metadata": {},
   "outputs": [],
   "source": []
  }
 ],
 "metadata": {
  "kernelspec": {
   "display_name": "Python 3 (ipykernel)",
   "language": "python",
   "name": "python3"
  },
  "language_info": {
   "codemirror_mode": {
    "name": "ipython",
    "version": 3
   },
   "file_extension": ".py",
   "mimetype": "text/x-python",
   "name": "python",
   "nbconvert_exporter": "python",
   "pygments_lexer": "ipython3",
   "version": "3.11.5"
  }
 },
 "nbformat": 4,
 "nbformat_minor": 5
}
