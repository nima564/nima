{
 "cells": [
  {
   "cell_type": "code",
   "execution_count": 3,
   "id": "859d64e4",
   "metadata": {},
   "outputs": [
    {
     "name": "stdout",
     "output_type": "stream",
     "text": [
      "n\n",
      "i\n",
      "m\n",
      "a\n"
     ]
    }
   ],
   "source": [
    "sda = ['n', 'i', 'm', 'a']\n",
    "for i in range(len(sda)):\n",
    "    print(sda[i])\n",
    "#blog.faradars.org"
   ]
  },
  {
   "cell_type": "code",
   "execution_count": null,
   "id": "3de6edd2",
   "metadata": {},
   "outputs": [],
   "source": []
  }
 ],
 "metadata": {
  "kernelspec": {
   "display_name": "Python 3 (ipykernel)",
   "language": "python",
   "name": "python3"
  },
  "language_info": {
   "codemirror_mode": {
    "name": "ipython",
    "version": 3
   },
   "file_extension": ".py",
   "mimetype": "text/x-python",
   "name": "python",
   "nbconvert_exporter": "python",
   "pygments_lexer": "ipython3",
   "version": "3.11.5"
  }
 },
 "nbformat": 4,
 "nbformat_minor": 5
}
