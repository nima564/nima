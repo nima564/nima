{
 "cells": [
  {
   "cell_type": "code",
   "execution_count": 1,
   "id": "2a06df17-54e0-4404-80ba-ab5cbcc313b8",
   "metadata": {},
   "outputs": [
    {
     "name": "stdout",
     "output_type": "stream",
     "text": [
      "nima\n"
     ]
    }
   ],
   "source": [
    "print (\"nima\")"
   ]
  },
  {
   "cell_type": "code",
   "execution_count": null,
   "id": "0589b202-1ceb-4eeb-9697-8f5e724c1f80",
   "metadata": {},
   "outputs": [],
   "source": []
  }
 ],
 "metadata": {
  "kernelspec": {
   "display_name": "Python 3 (ipykernel)",
   "language": "python",
   "name": "python3"
  },
  "language_info": {
   "codemirror_mode": {
    "name": "ipython",
    "version": 3
   },
   "file_extension": ".py",
   "mimetype": "text/x-python",
   "name": "python",
   "nbconvert_exporter": "python",
   "pygments_lexer": "ipython3",
   "version": "3.12.0"
  }
 },
 "nbformat": 4,
 "nbformat_minor": 5
}
