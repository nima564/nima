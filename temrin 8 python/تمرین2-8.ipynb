{
 "cells": [
  {
   "cell_type": "code",
   "execution_count": 2,
   "id": "1706f5ee",
   "metadata": {},
   "outputs": [
    {
     "name": "stdout",
     "output_type": "stream",
     "text": [
      "['W', 'E', 'R', 'V', 'W']\n",
      "['n', 's', 'd', 'f', 'd']\n",
      "['2', '54', '23']\n"
     ]
    }
   ],
   "source": [
    "d=[\"n\",'s','d','2','W','E','R','f','V','54','23','W','d']\n",
    "s=[]\n",
    "a=[]\n",
    "q=[]\n",
    "for w in d:\n",
    "    if w.isupper():\n",
    "        s.append(w)\n",
    "    elif w.islower():\n",
    "        a.append(w)\n",
    "    else:\n",
    "        q.append(w)\n",
    "print (s)\n",
    "print (a)\n",
    "print (q)"
   ]
  },
  {
   "cell_type": "code",
   "execution_count": null,
   "id": "e6f3060e",
   "metadata": {},
   "outputs": [],
   "source": []
  }
 ],
 "metadata": {
  "kernelspec": {
   "display_name": "Python 3 (ipykernel)",
   "language": "python",
   "name": "python3"
  },
  "language_info": {
   "codemirror_mode": {
    "name": "ipython",
    "version": 3
   },
   "file_extension": ".py",
   "mimetype": "text/x-python",
   "name": "python",
   "nbconvert_exporter": "python",
   "pygments_lexer": "ipython3",
   "version": "3.11.5"
  }
 },
 "nbformat": 4,
 "nbformat_minor": 5
}
