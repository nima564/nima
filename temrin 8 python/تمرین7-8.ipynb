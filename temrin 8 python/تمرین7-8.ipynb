{
 "cells": [
  {
   "cell_type": "code",
   "execution_count": 10,
   "id": "22d981ae",
   "metadata": {},
   "outputs": [
    {
     "name": "stdout",
     "output_type": "stream",
     "text": [
      "my\n",
      "name\n",
      "is\n",
      "matin\n"
     ]
    }
   ],
   "source": [
    "a=['m','na','i','ma']\n",
    "b=['y','me','s','tin']\n",
    "w=zip(a,b)\n",
    "for d,s in zip(a,b):\n",
    "    print(f\"{d}{s}\")\n"
   ]
  },
  {
   "cell_type": "code",
   "execution_count": 21,
   "id": "44332430",
   "metadata": {},
   "outputs": [
    {
     "name": "stdout",
     "output_type": "stream",
     "text": [
      "m y\n",
      "na me\n",
      "i s\n",
      "ma tin\n"
     ]
    }
   ],
   "source": [
    "a=['m','na','i','ma']\n",
    "b=['y','me','s','tin']\n",
    "\n",
    "for d,s in zip (a,b):\n",
    "    print(d,s)\n"
   ]
  },
  {
   "cell_type": "code",
   "execution_count": 20,
   "id": "31226233",
   "metadata": {},
   "outputs": [
    {
     "name": "stdout",
     "output_type": "stream",
     "text": [
      "{'m': 'y', 'na': 'me', 'i': 's', 'ma': 'tin'}\n"
     ]
    }
   ],
   "source": [
    "a=['m','na','i','ma']\n",
    "b=['y','me','s','tin']\n",
    "w=dict(zip(a,b))\n",
    "print(w)"
   ]
  },
  {
   "cell_type": "code",
   "execution_count": null,
   "id": "86af3b25",
   "metadata": {},
   "outputs": [],
   "source": []
  }
 ],
 "metadata": {
  "kernelspec": {
   "display_name": "Python 3 (ipykernel)",
   "language": "python",
   "name": "python3"
  },
  "language_info": {
   "codemirror_mode": {
    "name": "ipython",
    "version": 3
   },
   "file_extension": ".py",
   "mimetype": "text/x-python",
   "name": "python",
   "nbconvert_exporter": "python",
   "pygments_lexer": "ipython3",
   "version": "3.11.5"
  }
 },
 "nbformat": 4,
 "nbformat_minor": 5
}
