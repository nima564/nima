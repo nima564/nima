{
 "cells": [
  {
   "cell_type": "code",
   "execution_count": 2,
   "id": "bf50ce98",
   "metadata": {},
   "outputs": [
    {
     "name": "stdout",
     "output_type": "stream",
     "text": [
      "[1, -20, 1, 9]\n"
     ]
    }
   ],
   "source": [
    "a=[2,56,13,98]\n",
    "b=[1,76,12,89]\n",
    "s=[]\n",
    "for h in range(len(a)):\n",
    "    s.append(a[h]-b[h])\n",
    "print(s)"
   ]
  },
  {
   "cell_type": "code",
   "execution_count": null,
   "id": "4521d936",
   "metadata": {},
   "outputs": [],
   "source": []
  }
 ],
 "metadata": {
  "kernelspec": {
   "display_name": "Python 3 (ipykernel)",
   "language": "python",
   "name": "python3"
  },
  "language_info": {
   "codemirror_mode": {
    "name": "ipython",
    "version": 3
   },
   "file_extension": ".py",
   "mimetype": "text/x-python",
   "name": "python",
   "nbconvert_exporter": "python",
   "pygments_lexer": "ipython3",
   "version": "3.11.5"
  }
 },
 "nbformat": 4,
 "nbformat_minor": 5
}
