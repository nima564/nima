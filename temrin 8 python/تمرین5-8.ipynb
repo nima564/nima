{
 "cells": [
  {
   "cell_type": "code",
   "execution_count": 6,
   "id": "238e1edd",
   "metadata": {},
   "outputs": [
    {
     "name": "stdout",
     "output_type": "stream",
     "text": [
      "['a', 'w', 'q', 'e', '2', 't', 'f']\n",
      "['w', 'q', 'e', '2', 't', 'f']\n",
      "['q', 'e', '2', 't', 'f']\n",
      "['e', '2', 't', 'f']\n",
      "['2', 't', 'f']\n",
      "['t', 'f']\n",
      "['f']\n",
      "[]\n",
      "[]\n"
     ]
    }
   ],
   "source": [
    "s=['n','a','w','q','e','2','t','f']\n",
    "for a in s[:]:\n",
    "    s.pop(0)\n",
    "    print (s)\n",
    "print(s)"
   ]
  },
  {
   "cell_type": "code",
   "execution_count": 8,
   "id": "c6a11ec2",
   "metadata": {},
   "outputs": [
    {
     "name": "stdout",
     "output_type": "stream",
     "text": [
      "['a', 'w', 'q', 'e', '2', 't', 'f']\n",
      "['w', 'q', 'e', '2', 't', 'f']\n",
      "['q', 'e', '2', 't', 'f']\n",
      "['e', '2', 't', 'f']\n",
      "['2', 't', 'f']\n",
      "['t', 'f']\n",
      "['f']\n",
      "[]\n",
      "[]\n"
     ]
    }
   ],
   "source": [
    "s=['n','a','w','q','e','2','t','f']\n",
    "for a in s[:]:\n",
    "    del s[0]\n",
    "    print (s)\n",
    "print (s)"
   ]
  },
  {
   "cell_type": "code",
   "execution_count": 7,
   "id": "e79264cf",
   "metadata": {},
   "outputs": [
    {
     "name": "stdout",
     "output_type": "stream",
     "text": [
      "['a', 'w', 'q', 'e', '2', 't', 'f']\n",
      "['w', 'q', 'e', '2', 't', 'f']\n",
      "['q', 'e', '2', 't', 'f']\n",
      "['e', '2', 't', 'f']\n",
      "['2', 't', 'f']\n",
      "['t', 'f']\n",
      "['f']\n",
      "[]\n",
      "[]\n"
     ]
    }
   ],
   "source": [
    "s=['n','a','w','q','e','2','t','f']\n",
    "for a in s[:]:\n",
    "    s.remove(a)\n",
    "    print (s)\n",
    "print(s)"
   ]
  },
  {
   "cell_type": "code",
   "execution_count": null,
   "id": "9465cf28",
   "metadata": {},
   "outputs": [],
   "source": []
  }
 ],
 "metadata": {
  "kernelspec": {
   "display_name": "Python 3 (ipykernel)",
   "language": "python",
   "name": "python3"
  },
  "language_info": {
   "codemirror_mode": {
    "name": "ipython",
    "version": 3
   },
   "file_extension": ".py",
   "mimetype": "text/x-python",
   "name": "python",
   "nbconvert_exporter": "python",
   "pygments_lexer": "ipython3",
   "version": "3.11.5"
  }
 },
 "nbformat": 4,
 "nbformat_minor": 5
}
